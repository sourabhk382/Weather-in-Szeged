{
 "cells": [
  {
   "cell_type": "markdown",
   "id": "2a3dbf20",
   "metadata": {},
   "source": [
    "##  The goal was to predict apparent temperature for the given humidity, windspeed."
   ]
  },
  {
   "cell_type": "code",
   "execution_count": 1,
   "id": "c0929f04",
   "metadata": {},
   "outputs": [],
   "source": [
    "import pandas as pd\n",
    "import numpy as np\n",
    "from sklearn import linear_model"
   ]
  },
  {
   "cell_type": "code",
   "execution_count": null,
   "id": "db8a9327",
   "metadata": {},
   "outputs": [],
   "source": [
    "df = pd.read_csv(r'C:\\Users\\Shubham\\Downloads\\Excel\\weatherHistory\\Apparenttemperature.csv')\n",
    "df.head()"
   ]
  },
  {
   "cell_type": "code",
   "execution_count": null,
   "id": "47dd52f0",
   "metadata": {},
   "outputs": [],
   "source": [
    "df.describe()                                                #mean apparent temperature is lower than temperature                                  "
   ]
  },
  {
   "cell_type": "code",
   "execution_count": null,
   "id": "fc5f3252",
   "metadata": {},
   "outputs": [],
   "source": [
    "df.isnull().sum()                                                                   #no null value in numericals"
   ]
  },
  {
   "cell_type": "code",
   "execution_count": null,
   "id": "f81eaedb",
   "metadata": {},
   "outputs": [],
   "source": [
    "df1=df[['Temperature (C)','Apparent Temperature (C)','Humidity','Wind Speed (km/h)']]                   #required features\n",
    "df1"
   ]
  },
  {
   "cell_type": "code",
   "execution_count": null,
   "id": "3c998bee",
   "metadata": {},
   "outputs": [],
   "source": [
    "reg=linear_model.LinearRegression()\n",
    "reg.fit(df1.drop('Apparent Temperature (C)',axis='columns'),df1['Apparent Temperature (C)'])   #ax+by+cz+d=>apparent temperature"
   ]
  },
  {
   "cell_type": "code",
   "execution_count": null,
   "id": "793edd17",
   "metadata": {},
   "outputs": [],
   "source": [
    "reg.coef_                                               #a=1.12,b=1.05,c=-0.09   #windspeed increases apparent temp decreases "
   ]
  },
  {
   "cell_type": "code",
   "execution_count": null,
   "id": "57aa433c",
   "metadata": {},
   "outputs": [],
   "source": [
    "reg.intercept_                                      # 1.12(temp)+1.05(humidity)-0.09(windspeed)-2.33=apparent temp. "
   ]
  },
  {
   "cell_type": "code",
   "execution_count": null,
   "id": "3936cb1c",
   "metadata": {},
   "outputs": [],
   "source": [
    "reg.predict([[40,0.80,5]])                         # Analysis: 40 degree temp with high humidity will feel like 43 degree."
   ]
  },
  {
   "cell_type": "code",
   "execution_count": null,
   "id": "a70c1690",
   "metadata": {},
   "outputs": [],
   "source": [
    "reg.predict([[40,0.20,50]])                        # Analysis: 40 degree temp with high windspeed will feel like 38 degree."
   ]
  },
  {
   "cell_type": "code",
   "execution_count": null,
   "id": "0d47c26c",
   "metadata": {},
   "outputs": [],
   "source": [
    "import pickle"
   ]
  },
  {
   "cell_type": "code",
   "execution_count": null,
   "id": "4b4801d9",
   "metadata": {},
   "outputs": [],
   "source": [
    "pickle.dump(reg, open('model.pkl','wb'))\n",
    "\n",
    "model = pickle.load(open('model.pkl','rb'))\n",
    "print(model.predict([[40,0.20,50]]))"
   ]
  },
  {
   "cell_type": "raw",
   "id": "918d7e90",
   "metadata": {},
   "source": [
    "                                                      Insights \n",
    "    \n",
    "      Apparent temperature has greater direct correlation with temperature and humidity,\n",
    "                  and it has some inverse correlation with wind speed."
   ]
  }
 ],
 "metadata": {
  "kernelspec": {
   "display_name": "Python 3 (ipykernel)",
   "language": "python",
   "name": "python3"
  },
  "language_info": {
   "codemirror_mode": {
    "name": "ipython",
    "version": 3
   },
   "file_extension": ".py",
   "mimetype": "text/x-python",
   "name": "python",
   "nbconvert_exporter": "python",
   "pygments_lexer": "ipython3",
   "version": "3.9.7"
  }
 },
 "nbformat": 4,
 "nbformat_minor": 5
}
